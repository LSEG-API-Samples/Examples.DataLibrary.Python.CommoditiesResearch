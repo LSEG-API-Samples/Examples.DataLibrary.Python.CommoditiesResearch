{
 "cells": [
  {
   "cell_type": "markdown",
   "id": "f17e3aa4",
   "metadata": {},
   "source": [
    "# Base Metals Market Balance Commentary Using WBMS RICs"
   ]
  },
  {
   "cell_type": "markdown",
   "id": "4137e52d-701b-4cdd-b4f7-f03e7f0d4643",
   "metadata": {},
   "source": [
    "This notebook reads the latest monthly production and consumption data for following six base metals from WBMS RICS and produces a text file with commentary on the latest market balance.\n",
    "1. Aluminium\n",
    "2. Copper\n",
    "3. Lead\n",
    "4. Nickel\n",
    "5. Tin\n",
    "6. Zinc"
   ]
  },
  {
   "cell_type": "markdown",
   "id": "aa7beccf",
   "metadata": {},
   "source": [
    "### Import Required Libraries"
   ]
  },
  {
   "cell_type": "code",
   "execution_count": 1,
   "id": "9c4372f4-38b2-43d8-95e8-b64d999d08eb",
   "metadata": {},
   "outputs": [
    {
     "data": {
      "text/plain": [
       "<refinitiv.data.session.Definition object at 0x162a9e790 {name='workspace'}>"
      ]
     },
     "execution_count": 1,
     "metadata": {},
     "output_type": "execute_result"
    }
   ],
   "source": [
    "import pandas as pd\n",
    "import refinitiv.data as rd\n",
    "import calendar\n",
    "rd.open_session()"
   ]
  },
  {
   "cell_type": "markdown",
   "id": "cc5f2e8c",
   "metadata": {},
   "source": [
    "## Define Helper Functions"
   ]
  },
  {
   "cell_type": "markdown",
   "id": "7fadb549",
   "metadata": {},
   "source": [
    "In the code below, we define four helper functions. Three of them are templates for the commentary and the last function converts numbers to words:\n",
    "\n",
    "1. sent_non_jan_non_dec():\n",
    "   Defines template for all months except January and December.\n",
    "\n",
    "2. sent_jan():\n",
    "   Defines template for month of January.\n",
    "3. sent_dec():\n",
    "   Defines template for month of December.\n",
    "4. num2words():\n",
    "   Function to convert number to word."
   ]
  },
  {
   "cell_type": "code",
   "execution_count": 2,
   "id": "a1130d1c",
   "metadata": {},
   "outputs": [],
   "source": [
    "def sent_non_jan_non_dec(metal_name, month_from, month_to, production, consumption, deficit_surplus, market_balance, metal, howmanymonths, prev_mkt_bal, prev_def_sur, prev_year_whole, prev_year_def_sur):\n",
    "    text1 = metal_name+' output for the '+month_from+' to '+month_to+' period was '+production+' tonnes compared to apparent consumption of '+consumption + \\\n",
    "        ' tonnes, producing an implied market '+deficit_surplus+' of '+market_balance + \\\n",
    "        ' tonnes in the '+' market for the first ' + \\\n",
    "        howmanymonths+' months of the current year*.'\n",
    "    text2 = 'The '+deficit_surplus+' of '+market_balance+\" tonnes \"+'compares with a '+prev_def_sur+' of '+prev_mkt_bal+\" tonnes \" + \\\n",
    "        \" for the same period last year and a \"+prev_year_def_sur+\" of \" + \\\n",
    "            prev_year_whole+\" tonnes \"+\"for the previous year as a whole*.\"\n",
    "    return text1+text2\n",
    "\n",
    "\n",
    "def sent_jan(metal_name, production, consumption, deficit_surplus, market_balance, prev_mkt_bal, prev_def_sur, prev_year_whole, prev_year_def_sur):\n",
    "    text1 = metal_name+' output for the January period, was '+production+' tonnes compared to apparent consumption of '+consumption + \\\n",
    "        ' tonnes, producing an implied market '+deficit_surplus+' of '+market_balance + \\\n",
    "        ' tonnes in the market for the first month of the current year.'\n",
    "    text2 = '\\n'+'The '+market_balance+\" tonnes \"+deficit_surplus+' compares with '+prev_mkt_bal+\" tonnes \"+prev_def_sur + \\\n",
    "        \" for the same period last year and a \"+prev_year_whole + \\\n",
    "            \" \"+prev_year_def_sur+\" for the previous year as a whole.\"\n",
    "    return text1  # +text2\n",
    "\n",
    "\n",
    "def sent_dec(metal_name, month_to, production, consumption, deficit_surplus, market_balance, prev_year_whole, prev_year_def_sur):\n",
    "    text1 = metal_name+' output for the January'+' to '+month_to+' period, was '+production+' tonnes compared to apparent consumption of ' + \\\n",
    "        consumption+' tonnes, producing an implied market '+deficit_surplus + \\\n",
    "        ' of '+market_balance+' tonnes in the market for the current year.'\n",
    "    text2 = '\\n'+'The '+market_balance+\" tonnes \"+deficit_surplus+' compares with ' + \\\n",
    "        prev_year_whole+\" tonnes \"+prev_year_def_sur+\" for the previous year.\"\n",
    "    return text1+text2\n",
    "\n",
    "\n",
    "def num2words(numb):\n",
    "    num2word = {1: 'one', 2: 'two', 3: 'three', 4: 'four', 5: 'five',\n",
    "                6: 'six', 7: 'seven', 8: 'eight', 9: 'nine', 10: 'ten',\n",
    "                11: 'eleven', 12: 'twelve'}\n",
    "    return num2word[numb]"
   ]
  },
  {
   "cell_type": "markdown",
   "id": "eddfff44",
   "metadata": {},
   "source": [
    "## Aluminium Data Preperation\n",
    "\n",
    "The below code fetches production and consumption numbers from WBMS RICs and performs the requisite calculations needed to generate market balance commentary for Aluminium."
   ]
  },
  {
   "cell_type": "code",
   "execution_count": 3,
   "id": "38074ce7",
   "metadata": {},
   "outputs": [],
   "source": [
    "import gc\n",
    "df_prod = rd.get_history(\n",
    "    \"WBMALPRSPALWWM\", start='2015-01-01', interval='monthly', count=10000)\n",
    "df_prod = df_prod.reset_index()\n",
    "df_cons = rd.get_history(\n",
    "    \"WBMALCONPALWWM\", start='2015-01-01', interval='monthly', count=10000)\n",
    "df_cons = df_cons.reset_index()\n",
    "df_market_bal = pd.merge(df_prod, df_cons, on='Date')\n",
    "del df_prod, df_cons\n",
    "gc.collect()\n",
    "df_market_bal = df_market_bal.sort_values('Date')\n",
    "df_market_bal['Year'] = df_market_bal['Date'].dt.year\n",
    "df_market_bal['Month'] = df_market_bal['Date'].apply(\n",
    "    lambda x: str(x).split('-')[1:2][0].replace(' 00:00:00', ''))\n",
    "df_market_bal['IntMonth'] = df_market_bal['Month'].apply(lambda x: int(x))\n",
    "df_market_bal = df_market_bal.sort_values(by=['Year', 'IntMonth'])\n",
    "metal_name = 'Primary Aluminium'\n",
    "metal = 'Aluminium'\n",
    "\n",
    "current_month_num = df_market_bal.iloc[-1]['Month']\n",
    "current_year = df_market_bal.iloc[-1]['Year']\n",
    "last_year = current_year-1\n",
    "\n",
    "if current_month_num not in ['11', '12']:\n",
    "    howmanymonths = num2words(len(range(int(current_month_num))))\n",
    "else:\n",
    "    howmanymonths = current_month_num\n",
    "\n",
    "df_market_bal['MarketBalance'] = df_market_bal['TRDPRC_1_x'] - \\\n",
    "    df_market_bal['TRDPRC_1_y']\n",
    "df_market_bal['YTDProd'] = df_market_bal.groupby(['Year'])[\n",
    "    'TRDPRC_1_x'].cumsum()\n",
    "df_market_bal['YTDCons'] = df_market_bal.groupby(['Year'])[\n",
    "    'TRDPRC_1_y'].cumsum()\n",
    "df_market_bal['YTDMarketBal'] = df_market_bal['YTDProd'] - \\\n",
    "    df_market_bal['YTDCons']\n",
    "production = \"{:,}\".format((df_market_bal.iloc[-1]['YTDProd']))\n",
    "consumption = \"{:,}\".format((df_market_bal.iloc[-1]['YTDCons']))\n",
    "market_balance = df_market_bal.iloc[-1]['YTDMarketBal']\n",
    "deficit_surplus = 'surplus'\n",
    "if market_balance < 0:\n",
    "    deficit_surplus = 'deficit'\n",
    "market_balance = \"{:,}\".format(abs(market_balance))\n",
    "prev_mkt_bal = df_market_bal[(df_market_bal.Month == current_month_num) & (\n",
    "    df_market_bal['Year'] == last_year)]['YTDMarketBal'].values[0]\n",
    "prev_def_sur = 'surplus'\n",
    "if prev_mkt_bal < 0:\n",
    "    prev_def_sur = 'deficit'\n",
    "prev_mkt_bal = \"{:,}\".format((abs(prev_mkt_bal)))\n",
    "prev_year_whole = df_market_bal[(\n",
    "    df_market_bal['Year'] == last_year)]['MarketBalance'].sum()\n",
    "prev_year_def_sur = 'surplus'\n",
    "if prev_year_whole < 0:\n",
    "    prev_year_def_sur = 'deficit'\n",
    "prev_year_whole = \"{:,}\".format(abs(prev_year_whole))"
   ]
  },
  {
   "cell_type": "markdown",
   "id": "6fbc704f",
   "metadata": {},
   "source": [
    "The below code calls the relevant template for Aluminium market balance commentary based on the month."
   ]
  },
  {
   "cell_type": "code",
   "execution_count": 4,
   "id": "76b536a7",
   "metadata": {},
   "outputs": [
    {
     "data": {
      "text/plain": [
       "'Primary Aluminium output for the January to December period, was 68,304,556 tonnes compared to apparent consumption of 68,448,583 tonnes, producing an implied market deficit of 144,027 tonnes in the market for the current year.\\nThe 144,027 tonnes deficit compares with 1,161,450 tonnes deficit for the previous year.'"
      ]
     },
     "execution_count": 4,
     "metadata": {},
     "output_type": "execute_result"
    }
   ],
   "source": [
    "if current_month_num == '01':\n",
    "    fin_text = sent_jan(metal_name, production, consumption, deficit_surplus,\n",
    "                        market_balance, prev_mkt_bal, prev_def_sur, prev_year_whole, prev_year_def_sur)\n",
    "elif current_month_num == '12':\n",
    "    fin_text = sent_dec(metal_name, calendar.month_name[int(\n",
    "        current_month_num)], production, consumption, deficit_surplus, market_balance, prev_year_whole, prev_year_def_sur)\n",
    "else:\n",
    "    fin_text = (sent_non_jan_non_dec(metal_name, 'January', calendar.month_name[int(\n",
    "        current_month_num)], production, consumption, deficit_surplus, market_balance, metal, howmanymonths, prev_mkt_bal, prev_def_sur, prev_year_whole, prev_year_def_sur))\n",
    "fin_text_aluminium = fin_text.replace(\".0\", \"\")\n",
    "fin_text_aluminium"
   ]
  },
  {
   "cell_type": "markdown",
   "id": "c8abf662",
   "metadata": {},
   "source": [
    "## Copper Data Preperation\n",
    "\n",
    "The below code fetches production and consumption numbers from WBMS RICs and performs the requisite calculations needed to generate market balance commentary for Copper."
   ]
  },
  {
   "cell_type": "code",
   "execution_count": 5,
   "id": "01bbd4ef",
   "metadata": {},
   "outputs": [],
   "source": [
    "import gc\n",
    "df_prod = rd.get_history(\n",
    "    \"WBMCUPRDREFWWM\", start='2015-01-01', interval='monthly', count=10000)\n",
    "df_prod = df_prod.reset_index()\n",
    "df_cons = rd.get_history(\n",
    "    \"WBMCUCONREFWWM\", start='2015-01-01', interval='monthly', count=10000)\n",
    "df_cons = df_cons.reset_index()\n",
    "df_market_bal = pd.merge(df_prod, df_cons, on='Date')\n",
    "del df_prod, df_cons\n",
    "gc.collect()\n",
    "df_market_bal = df_market_bal.sort_values('Date')\n",
    "df_market_bal['Year'] = df_market_bal['Date'].dt.year\n",
    "df_market_bal['Month'] = df_market_bal['Date'].apply(\n",
    "    lambda x: str(x).split('-')[1:2][0].replace(' 00:00:00', ''))\n",
    "df_market_bal['IntMonth'] = df_market_bal['Month'].apply(lambda x: int(x))\n",
    "df_market_bal = df_market_bal.sort_values(by=['Year', 'IntMonth'])\n",
    "metal_name = 'Refined Copper'\n",
    "metal = 'Copper'\n",
    "\n",
    "current_month_num = df_market_bal.iloc[-1]['Month']\n",
    "current_year = df_market_bal.iloc[-1]['Year']\n",
    "last_year = current_year-1\n",
    "\n",
    "if current_month_num not in ['11', '12']:\n",
    "    howmanymonths = num2words(len(range(int(current_month_num))))\n",
    "else:\n",
    "    howmanymonths = current_month_num\n",
    "\n",
    "df_market_bal['MarketBalance'] = df_market_bal['TRDPRC_1_x'] - \\\n",
    "    df_market_bal['TRDPRC_1_y']\n",
    "df_market_bal['YTDProd'] = df_market_bal.groupby(['Year'])[\n",
    "    'TRDPRC_1_x'].cumsum()\n",
    "df_market_bal['YTDCons'] = df_market_bal.groupby(['Year'])[\n",
    "    'TRDPRC_1_y'].cumsum()\n",
    "df_market_bal['YTDMarketBal'] = df_market_bal['YTDProd'] - \\\n",
    "    df_market_bal['YTDCons']\n",
    "production = \"{:,}\".format((df_market_bal.iloc[-1]['YTDProd']))\n",
    "consumption = \"{:,}\".format((df_market_bal.iloc[-1]['YTDCons']))\n",
    "market_balance = df_market_bal.iloc[-1]['YTDMarketBal']\n",
    "deficit_surplus = 'surplus'\n",
    "if market_balance < 0:\n",
    "    deficit_surplus = 'deficit'\n",
    "market_balance = \"{:,}\".format(abs(market_balance))\n",
    "prev_mkt_bal = df_market_bal[(df_market_bal.Month == current_month_num) & (\n",
    "    df_market_bal['Year'] == last_year)]['YTDMarketBal'].values[0]\n",
    "prev_def_sur = 'surplus'\n",
    "if prev_mkt_bal < 0:\n",
    "    prev_def_sur = 'deficit'\n",
    "prev_mkt_bal = \"{:,}\".format((abs(prev_mkt_bal)))\n",
    "prev_year_whole = df_market_bal[(\n",
    "    df_market_bal['Year'] == last_year)]['MarketBalance'].sum()\n",
    "prev_year_def_sur = 'surplus'\n",
    "if prev_year_whole < 0:\n",
    "    prev_year_def_sur = 'deficit'\n",
    "prev_year_whole = \"{:,}\".format(abs(prev_year_whole))"
   ]
  },
  {
   "cell_type": "markdown",
   "id": "adf219ed",
   "metadata": {},
   "source": [
    "The below code calls the relevant template for copper market balance commentary based on the month."
   ]
  },
  {
   "cell_type": "code",
   "execution_count": 6,
   "id": "b493bb46",
   "metadata": {},
   "outputs": [
    {
     "data": {
      "text/plain": [
       "'Refined Copper output for the January to December period, was 25,084,821 tonnes compared to apparent consumption of 25,991,799 tonnes, producing an implied market deficit of 906,978 tonnes in the market for the current year.\\nThe 906,978 tonnes deficit compares with 472,580 tonnes deficit for the previous year.'"
      ]
     },
     "execution_count": 6,
     "metadata": {},
     "output_type": "execute_result"
    }
   ],
   "source": [
    "if current_month_num == '01':\n",
    "    fin_text = sent_jan(metal_name, 'January', calendar.month_name[int(\n",
    "        current_month_num)], production, consumption, deficit_surplus, market_balance, metal, howmanymonths, prev_mkt_bal, prev_def_sur, prev_year_whole)\n",
    "elif current_month_num == '12':\n",
    "    fin_text = sent_dec(metal_name, calendar.month_name[int(\n",
    "        current_month_num)], production, consumption, deficit_surplus, market_balance, prev_year_whole, prev_year_def_sur)\n",
    "else:\n",
    "    fin_text = (sent_non_jan_non_dec(metal_name, 'January', calendar.month_name[int(\n",
    "        current_month_num)], production, consumption, deficit_surplus, market_balance, metal, howmanymonths, prev_mkt_bal, prev_def_sur, prev_year_whole, prev_year_def_sur))\n",
    "fin_text_copper = fin_text.replace(\".0\", \"\")\n",
    "fin_text_copper"
   ]
  },
  {
   "cell_type": "markdown",
   "id": "376c47db",
   "metadata": {},
   "source": [
    "## Lead Data Preperation\n",
    "\n",
    "The below code fetches production and consumption numbers from WBMS RICs and performs the requisite calculations needed to generate market balance commentary for Lead."
   ]
  },
  {
   "cell_type": "code",
   "execution_count": 7,
   "id": "623812aa",
   "metadata": {},
   "outputs": [],
   "source": [
    "import gc\n",
    "df_prod = rd.get_history(\n",
    "    \"WBMPBPRDRELWWM\", start='2015-01-01', interval='monthly', count=10000)\n",
    "df_prod = df_prod.reset_index()\n",
    "df_cons = rd.get_history(\n",
    "    \"WBMPBCONRELWWM\", start='2015-01-01', interval='monthly', count=10000)\n",
    "df_cons = df_cons.reset_index()\n",
    "df_market_bal = pd.merge(df_prod, df_cons, on='Date')\n",
    "del df_prod, df_cons\n",
    "gc.collect()\n",
    "df_market_bal = df_market_bal.sort_values('Date')\n",
    "\n",
    "\n",
    "df_market_bal['Year'] = df_market_bal['Date'].dt.year\n",
    "df_market_bal['Month'] = df_market_bal['Date'].apply(\n",
    "    lambda x: str(x).split('-')[1:2][0].replace(' 00:00:00', ''))\n",
    "df_market_bal['IntMonth'] = df_market_bal['Month'].apply(lambda x: int(x))\n",
    "df_market_bal = df_market_bal.sort_values(by=['Year', 'IntMonth'])\n",
    "metal_name = 'Refined Lead'\n",
    "metal = 'Lead'\n",
    "\n",
    "current_month_num = df_market_bal.iloc[-1]['Month']\n",
    "current_year = df_market_bal.iloc[-1]['Year']\n",
    "last_year = current_year-1\n",
    "\n",
    "if current_month_num not in ['11', '12']:\n",
    "    howmanymonths = num2words(len(range(int(current_month_num))))\n",
    "else:\n",
    "    howmanymonths = current_month_num\n",
    "\n",
    "df_market_bal['MarketBalance'] = df_market_bal['TRDPRC_1_x'] - \\\n",
    "    df_market_bal['TRDPRC_1_y']\n",
    "df_market_bal['YTDProd'] = df_market_bal.groupby(['Year'])[\n",
    "    'TRDPRC_1_x'].cumsum()\n",
    "df_market_bal['YTDCons'] = df_market_bal.groupby(['Year'])[\n",
    "    'TRDPRC_1_y'].cumsum()\n",
    "df_market_bal['YTDMarketBal'] = df_market_bal['YTDProd'] - \\\n",
    "    df_market_bal['YTDCons']\n",
    "production = \"{:,}\".format((df_market_bal.iloc[-1]['YTDProd']))\n",
    "consumption = \"{:,}\".format((df_market_bal.iloc[-1]['YTDCons']))\n",
    "market_balance = df_market_bal.iloc[-1]['YTDMarketBal']\n",
    "deficit_surplus = 'surplus'\n",
    "if market_balance < 0:\n",
    "    deficit_surplus = 'deficit'\n",
    "market_balance = \"{:,}\".format(abs(market_balance))\n",
    "prev_mkt_bal = df_market_bal[(df_market_bal.Month == current_month_num) & (\n",
    "    df_market_bal['Year'] == last_year)]['YTDMarketBal'].values[0]\n",
    "prev_def_sur = 'surplus'\n",
    "if prev_mkt_bal < 0:\n",
    "    prev_def_sur = 'deficit'\n",
    "prev_mkt_bal = \"{:,}\".format((abs(prev_mkt_bal)))\n",
    "prev_year_whole = df_market_bal[(\n",
    "    df_market_bal['Year'] == last_year)]['MarketBalance'].sum()\n",
    "prev_year_def_sur = 'surplus'\n",
    "if prev_year_whole < 0:\n",
    "    prev_year_def_sur = 'deficit'\n",
    "prev_year_whole = \"{:,}\".format(abs(prev_year_whole))"
   ]
  },
  {
   "cell_type": "markdown",
   "id": "2bffb608",
   "metadata": {},
   "source": [
    "The below code calls the relevant template for Lead market balance commentary based on the month."
   ]
  },
  {
   "cell_type": "code",
   "execution_count": 8,
   "id": "3ed446b9",
   "metadata": {},
   "outputs": [
    {
     "data": {
      "text/plain": [
       "'Refined Lead output for the January to December period, was 14,822,948 tonnes compared to apparent consumption of 14,898,715 tonnes, producing an implied market deficit of 75,767 tonnes in the market for the current year.\\nThe 75,767 tonnes deficit compares with 131,854 tonnes deficit for the previous year.'"
      ]
     },
     "execution_count": 8,
     "metadata": {},
     "output_type": "execute_result"
    }
   ],
   "source": [
    "if current_month_num == '01':\n",
    "    fin_text = sent_jan(metal_name, 'January', calendar.month_name[int(\n",
    "        current_month_num)], production, consumption, deficit_surplus, market_balance, metal, howmanymonths, prev_mkt_bal, prev_def_sur, prev_year_whole)\n",
    "elif current_month_num == '12':\n",
    "    fin_text = sent_dec(metal_name, calendar.month_name[int(\n",
    "        current_month_num)], production, consumption, deficit_surplus, market_balance, prev_year_whole, prev_year_def_sur)\n",
    "else:\n",
    "    fin_text = (sent_non_jan_non_dec(metal_name, 'January', calendar.month_name[int(\n",
    "        current_month_num)], production, consumption, deficit_surplus, market_balance, metal, howmanymonths, prev_mkt_bal, prev_def_sur, prev_year_whole, prev_year_def_sur))\n",
    "fin_text_lead = fin_text.replace(\".0\", \"\")\n",
    "fin_text_lead"
   ]
  },
  {
   "cell_type": "markdown",
   "id": "a2909f48",
   "metadata": {},
   "source": [
    "## Nickel Data Preperation\n",
    "\n",
    "The below code fetches production and consumption numbers from WBMS RICs and performs the requisite calculations needed to generate market balance commentary for Nickel."
   ]
  },
  {
   "cell_type": "code",
   "execution_count": 9,
   "id": "ead1b285",
   "metadata": {},
   "outputs": [],
   "source": [
    "import gc\n",
    "df_prod = rd.get_history(\n",
    "    \"WBMNIPRRPRNWWM\", start='2015-01-01', interval='monthly', count=10000)\n",
    "df_prod = df_prod.reset_index()\n",
    "df_cons = rd.get_history(\n",
    "    \"WBMNICONPNWWM\", start='2015-01-01', interval='monthly', count=10000)\n",
    "df_cons = df_cons.reset_index()\n",
    "df_market_bal = pd.merge(df_prod, df_cons, on='Date')\n",
    "del df_prod, df_cons\n",
    "gc.collect()\n",
    "\n",
    "df_market_bal = df_market_bal.sort_values('Date')\n",
    "\n",
    "\n",
    "df_market_bal['Year'] = df_market_bal['Date'].dt.year\n",
    "df_market_bal['Month'] = df_market_bal['Date'].apply(\n",
    "    lambda x: str(x).split('-')[1:2][0].replace(' 00:00:00', ''))\n",
    "df_market_bal['IntMonth'] = df_market_bal['Month'].apply(lambda x: int(x))\n",
    "df_market_bal = df_market_bal.sort_values(by=['Year', 'IntMonth'])\n",
    "metal_name = 'Primary Refined Nickel'\n",
    "metal = 'Nickel'\n",
    "\n",
    "current_month_num = df_market_bal.iloc[-1]['Month']\n",
    "current_year = df_market_bal.iloc[-1]['Year']\n",
    "last_year = current_year-1\n",
    "\n",
    "if current_month_num not in ['11', '12']:\n",
    "    howmanymonths = num2words(len(range(int(current_month_num))))\n",
    "else:\n",
    "    howmanymonths = current_month_num\n",
    "\n",
    "df_market_bal['MarketBalance'] = df_market_bal['TRDPRC_1_x'] - \\\n",
    "    df_market_bal['TRDPRC_1_y']\n",
    "df_market_bal['YTDProd'] = df_market_bal.groupby(['Year'])[\n",
    "    'TRDPRC_1_x'].cumsum()\n",
    "df_market_bal['YTDCons'] = df_market_bal.groupby(['Year'])[\n",
    "    'TRDPRC_1_y'].cumsum()\n",
    "df_market_bal['YTDMarketBal'] = df_market_bal['YTDProd'] - \\\n",
    "    df_market_bal['YTDCons']\n",
    "production = \"{:,}\".format((df_market_bal.iloc[-1]['YTDProd']))\n",
    "consumption = \"{:,}\".format((df_market_bal.iloc[-1]['YTDCons']))\n",
    "market_balance = df_market_bal.iloc[-1]['YTDMarketBal']\n",
    "deficit_surplus = 'surplus'\n",
    "if market_balance < 0:\n",
    "    deficit_surplus = 'deficit'\n",
    "market_balance = \"{:,}\".format(abs(market_balance))\n",
    "prev_mkt_bal = df_market_bal[(df_market_bal.Month == current_month_num) & (\n",
    "    df_market_bal['Year'] == last_year)]['YTDMarketBal'].values[0]\n",
    "prev_def_sur = 'surplus'\n",
    "if prev_mkt_bal < 0:\n",
    "    prev_def_sur = 'deficit'\n",
    "prev_mkt_bal = \"{:,}\".format((abs(prev_mkt_bal)))\n",
    "prev_year_whole = df_market_bal[(\n",
    "    df_market_bal['Year'] == last_year)]['MarketBalance'].sum()\n",
    "prev_year_def_sur = 'surplus'\n",
    "if prev_year_whole < 0:\n",
    "    prev_year_def_sur = 'deficit'\n",
    "prev_year_whole = \"{:,}\".format(abs(prev_year_whole))"
   ]
  },
  {
   "cell_type": "markdown",
   "id": "4f7c8b6f",
   "metadata": {},
   "source": [
    "The below code calls the relevant template for Nickel market balance commentary based on the month."
   ]
  },
  {
   "cell_type": "code",
   "execution_count": 10,
   "id": "5223f483",
   "metadata": {},
   "outputs": [
    {
     "data": {
      "text/plain": [
       "'Primary Refined Nickel output for the January to December period, was 2,999,675 tonnes compared to apparent consumption of 3,060,243 tonnes, producing an implied market deficit of 60,568 tonnes in the market for the current year.\\nThe 60,568 tonnes deficit compares with 146,828 tonnes deficit for the previous year.'"
      ]
     },
     "execution_count": 10,
     "metadata": {},
     "output_type": "execute_result"
    }
   ],
   "source": [
    "if current_month_num == '01':\n",
    "    fin_text = sent_jan(metal_name, 'January', calendar.month_name[int(\n",
    "        current_month_num)], production, consumption, deficit_surplus, market_balance, metal, howmanymonths, prev_mkt_bal, prev_def_sur, prev_year_whole)\n",
    "elif current_month_num == '12':\n",
    "    fin_text = sent_dec(metal_name, calendar.month_name[int(\n",
    "        current_month_num)], production, consumption, deficit_surplus, market_balance, prev_year_whole, prev_year_def_sur)\n",
    "else:\n",
    "    fin_text = (sent_non_jan_non_dec(metal_name, 'January', calendar.month_name[int(\n",
    "        current_month_num)], production, consumption, deficit_surplus, market_balance, metal, howmanymonths, prev_mkt_bal, prev_def_sur, prev_year_whole, prev_year_def_sur))\n",
    "fin_text_nickel = fin_text.replace(\".0\", \"\")\n",
    "fin_text_nickel"
   ]
  },
  {
   "cell_type": "markdown",
   "id": "6c87d20e",
   "metadata": {},
   "source": [
    "## Tin Data Preperation\n",
    "\n",
    "The below code fetches production and consumption numbers from WBMS RICs and performs the requisite calculations needed to generate market balance commentary for Tin."
   ]
  },
  {
   "cell_type": "code",
   "execution_count": 11,
   "id": "b0807ed2",
   "metadata": {},
   "outputs": [],
   "source": [
    "import gc\n",
    "df_prod = rd.get_history(\n",
    "    \"WBMSNPRDRETWWM\", start='2015-01-01', interval='monthly', count=10000)\n",
    "df_prod = df_prod.reset_index()\n",
    "df_cons = rd.get_history(\n",
    "    \"WBMSNCONRETWWM\", start='2015-01-01', interval='monthly', count=10000)\n",
    "df_cons = df_cons.reset_index()\n",
    "df_market_bal = pd.merge(df_prod, df_cons, on='Date')\n",
    "del df_prod, df_cons\n",
    "gc.collect()\n",
    "df_market_bal = df_market_bal.sort_values('Date')\n",
    "\n",
    "df_market_bal['Year'] = df_market_bal['Date'].dt.year\n",
    "df_market_bal['Month'] = df_market_bal['Date'].apply(\n",
    "    lambda x: str(x).split('-')[1:2][0].replace(' 00:00:00', ''))\n",
    "df_market_bal['IntMonth'] = df_market_bal['Month'].apply(lambda x: int(x))\n",
    "df_market_bal = df_market_bal.sort_values(by=['Year', 'IntMonth'])\n",
    "metal_name = 'Refined Tin'\n",
    "metal = 'Tin'\n",
    "\n",
    "current_month_num = df_market_bal.iloc[-1]['Month']\n",
    "current_year = df_market_bal.iloc[-1]['Year']\n",
    "last_year = current_year-1\n",
    "\n",
    "if current_month_num not in ['11', '12']:\n",
    "    howmanymonths = num2words(len(range(int(current_month_num))))\n",
    "else:\n",
    "    howmanymonths = current_month_num\n",
    "\n",
    "df_market_bal['MarketBalance'] = df_market_bal['TRDPRC_1_x'] - \\\n",
    "    df_market_bal['TRDPRC_1_y']\n",
    "df_market_bal['YTDProd'] = df_market_bal.groupby(['Year'])[\n",
    "    'TRDPRC_1_x'].cumsum()\n",
    "df_market_bal['YTDCons'] = df_market_bal.groupby(['Year'])[\n",
    "    'TRDPRC_1_y'].cumsum()\n",
    "df_market_bal['YTDMarketBal'] = df_market_bal['YTDProd'] - \\\n",
    "    df_market_bal['YTDCons']\n",
    "production = \"{:,}\".format((df_market_bal.iloc[-1]['YTDProd']))\n",
    "consumption = \"{:,}\".format((df_market_bal.iloc[-1]['YTDCons']))\n",
    "market_balance = df_market_bal.iloc[-1]['YTDMarketBal']\n",
    "deficit_surplus = 'surplus'\n",
    "if market_balance < 0:\n",
    "    deficit_surplus = 'deficit'\n",
    "market_balance = \"{:,}\".format(abs(market_balance))\n",
    "prev_mkt_bal = df_market_bal[(df_market_bal.Month == current_month_num) & (\n",
    "    df_market_bal['Year'] == last_year)]['YTDMarketBal'].values[0]\n",
    "prev_def_sur = 'surplus'\n",
    "if prev_mkt_bal < 0:\n",
    "    prev_def_sur = 'deficit'\n",
    "prev_mkt_bal = \"{:,}\".format((abs(prev_mkt_bal)))\n",
    "prev_year_whole = df_market_bal[(\n",
    "    df_market_bal['Year'] == last_year)]['MarketBalance'].sum()\n",
    "prev_year_def_sur = 'surplus'\n",
    "if prev_year_whole < 0:\n",
    "    prev_year_def_sur = 'deficit'\n",
    "prev_year_whole = \"{:,}\".format(abs(prev_year_whole))"
   ]
  },
  {
   "cell_type": "markdown",
   "id": "ab5e03ed",
   "metadata": {},
   "source": [
    "The below code calls the relevant template for Tin market balance commentary based on the month."
   ]
  },
  {
   "cell_type": "code",
   "execution_count": 12,
   "id": "9a9a69c8",
   "metadata": {},
   "outputs": [
    {
     "data": {
      "text/plain": [
       "'Refined Tin output for the January to December period, was 348,932 tonnes compared to apparent consumption of 359,983 tonnes, producing an implied market deficit of 11,051 tonnes in the market for the current year.\\nThe 11,051 tonnes deficit compares with 1,850 tonnes surplus for the previous year.'"
      ]
     },
     "execution_count": 12,
     "metadata": {},
     "output_type": "execute_result"
    }
   ],
   "source": [
    "if current_month_num == '01':\n",
    "    fin_text = sent_jan(metal_name, 'January', calendar.month_name[int(\n",
    "        current_month_num)], production, consumption, deficit_surplus, market_balance, metal, howmanymonths, prev_mkt_bal, prev_def_sur, prev_year_whole)\n",
    "elif current_month_num == '12':\n",
    "    fin_text = sent_dec(metal_name, calendar.month_name[int(\n",
    "        current_month_num)], production, consumption, deficit_surplus, market_balance, prev_year_whole, prev_year_def_sur)\n",
    "else:\n",
    "    fin_text = (sent_non_jan_non_dec(metal_name, 'January', calendar.month_name[int(\n",
    "        current_month_num)], production, consumption, deficit_surplus, market_balance, metal, howmanymonths, prev_mkt_bal, prev_def_sur, prev_year_whole, prev_year_def_sur))\n",
    "fin_text_tin = fin_text.replace(\".0\", \"\")\n",
    "fin_text_tin"
   ]
  },
  {
   "cell_type": "markdown",
   "id": "cd967b0d",
   "metadata": {},
   "source": [
    "## Zinc Data Preperation\n",
    "\n",
    "The below code fetches production and consumption numbers from WBMS RICs and performs the requisite calculations needed to generate market balance commentary for Zinc."
   ]
  },
  {
   "cell_type": "code",
   "execution_count": 13,
   "id": "88bad9d7",
   "metadata": {},
   "outputs": [],
   "source": [
    "import gc\n",
    "df_prod = rd.get_history(\n",
    "    \"WBMZNPRDREZWWM\", start='2015-01-01', interval='monthly', count=10000)\n",
    "df_prod = df_prod.reset_index()\n",
    "df_cons = rd.get_history(\n",
    "    \"WBMZNCONREZWWM\", start='2015-01-01', interval='monthly', count=10000)\n",
    "df_cons = df_cons.reset_index()\n",
    "df_market_bal = pd.merge(df_prod, df_cons, on='Date')\n",
    "del df_prod, df_cons\n",
    "gc.collect()\n",
    "df_market_bal = df_market_bal.sort_values('Date')\n",
    "\n",
    "df_market_bal['Year'] = df_market_bal['Date'].dt.year\n",
    "df_market_bal['Month'] = df_market_bal['Date'].apply(\n",
    "    lambda x: str(x).split('-')[1:2][0].replace(' 00:00:00', ''))\n",
    "df_market_bal['IntMonth'] = df_market_bal['Month'].apply(lambda x: int(x))\n",
    "df_market_bal = df_market_bal.sort_values(by=['Year', 'IntMonth'])\n",
    "metal_name = 'Refined Lead'\n",
    "metal = 'Lead'\n",
    "\n",
    "current_month_num = df_market_bal.iloc[-1]['Month']\n",
    "current_year = df_market_bal.iloc[-1]['Year']\n",
    "last_year = current_year-1\n",
    "\n",
    "if current_month_num not in ['11', '12']:\n",
    "    howmanymonths = num2words(len(range(int(current_month_num))))\n",
    "else:\n",
    "    howmanymonths = current_month_num\n",
    "\n",
    "df_market_bal['MarketBalance'] = df_market_bal['TRDPRC_1_x'] - \\\n",
    "    df_market_bal['TRDPRC_1_y']\n",
    "df_market_bal['YTDProd'] = df_market_bal.groupby(['Year'])[\n",
    "    'TRDPRC_1_x'].cumsum()\n",
    "df_market_bal['YTDCons'] = df_market_bal.groupby(['Year'])[\n",
    "    'TRDPRC_1_y'].cumsum()\n",
    "df_market_bal['YTDMarketBal'] = df_market_bal['YTDProd'] - \\\n",
    "    df_market_bal['YTDCons']\n",
    "production = \"{:,}\".format((df_market_bal.iloc[-1]['YTDProd']))\n",
    "consumption = \"{:,}\".format((df_market_bal.iloc[-1]['YTDCons']))\n",
    "market_balance = df_market_bal.iloc[-1]['YTDMarketBal']\n",
    "deficit_surplus = 'surplus'\n",
    "if market_balance < 0:\n",
    "    deficit_surplus = 'deficit'\n",
    "market_balance = \"{:,}\".format(abs(market_balance))\n",
    "prev_mkt_bal = df_market_bal[(df_market_bal.Month == current_month_num) & (\n",
    "    df_market_bal['Year'] == last_year)]['YTDMarketBal'].values[0]\n",
    "prev_def_sur = 'surplus'\n",
    "if prev_mkt_bal < 0:\n",
    "    prev_def_sur = 'deficit'\n",
    "prev_mkt_bal = \"{:,}\".format((abs(prev_mkt_bal)))\n",
    "prev_year_whole = df_market_bal[(\n",
    "    df_market_bal['Year'] == last_year)]['MarketBalance'].sum()\n",
    "prev_year_def_sur = 'surplus'\n",
    "if prev_year_whole < 0:\n",
    "    prev_year_def_sur = 'deficit'\n",
    "prev_year_whole = \"{:,}\".format(abs(prev_year_whole))"
   ]
  },
  {
   "cell_type": "markdown",
   "id": "eb0627c1",
   "metadata": {},
   "source": [
    "The below code calls the relevant template for Zinc market balance commentary based on the month."
   ]
  },
  {
   "cell_type": "code",
   "execution_count": 14,
   "id": "3671c8ab",
   "metadata": {},
   "outputs": [
    {
     "data": {
      "text/plain": [
       "'Refined Lead output for the January to December period, was 13,864,807 tonnes compared to apparent consumption of 13,665,709 tonnes, producing an implied market surplus of 199,098 tonnes in the market for the current year.\\nThe 199,098 tonnes surplus compares with 94,883 tonnes deficit for the previous year.'"
      ]
     },
     "execution_count": 14,
     "metadata": {},
     "output_type": "execute_result"
    }
   ],
   "source": [
    "if current_month_num == '01':\n",
    "    fin_text = sent_jan(metal_name, 'January', calendar.month_name[int(\n",
    "        current_month_num)], production, consumption, deficit_surplus, market_balance, metal, howmanymonths, prev_mkt_bal, prev_def_sur, prev_year_whole)\n",
    "elif current_month_num == '12':\n",
    "    fin_text = sent_dec(metal_name, calendar.month_name[int(\n",
    "        current_month_num)], production, consumption, deficit_surplus, market_balance, prev_year_whole, prev_year_def_sur)\n",
    "else:\n",
    "    fin_text = (sent_non_jan_non_dec(metal_name, 'January', calendar.month_name[int(\n",
    "        current_month_num)], production, consumption, deficit_surplus, market_balance, metal, howmanymonths, prev_mkt_bal, prev_def_sur, prev_year_whole, prev_year_def_sur))\n",
    "fin_text_zinc = fin_text.replace(\".0\", \"\")\n",
    "fin_text_zinc"
   ]
  },
  {
   "cell_type": "markdown",
   "id": "f47bb9a4",
   "metadata": {},
   "source": [
    "In the below cells we consolidate the market balance commentary for the six base metals and generate a .txt file."
   ]
  },
  {
   "cell_type": "code",
   "execution_count": 15,
   "id": "79f37de7",
   "metadata": {},
   "outputs": [],
   "source": [
    "lst_text = fin_text_aluminium.replace(\"/n\", \"\").split('.')+['\\n']+fin_text_copper.replace(\"\\n\", \"\").split('.')+['\\n']+fin_text_lead.replace(\"\\n\", \"\").split(\n",
    "    '.')+['\\n']+fin_text_nickel.replace(\"\\n\", \"\").split('.')+['\\n']+fin_text_tin.replace(\"\\n\", \"\").split('.')+['\\n']+fin_text_zinc.replace(\"\\n\", \"\").split('.')+['\\n']\n",
    "lst_new_text = []\n",
    "for i in lst_text:\n",
    "    i = i.replace(\"*\", \".\")\n",
    "    lst_new_text.append(i)"
   ]
  },
  {
   "cell_type": "code",
   "execution_count": 16,
   "id": "e3eacc72",
   "metadata": {},
   "outputs": [],
   "source": [
    "%%capture cap --no-stderr\n",
    "for i in lst_new_text:\n",
    "    print(i)"
   ]
  },
  {
   "cell_type": "code",
   "execution_count": 17,
   "id": "57c8804d-ddce-44ed-9d0e-7954bd8dc8bb",
   "metadata": {},
   "outputs": [],
   "source": [
    "from pathlib import Path\n",
    "with open(Path.home()/'WBMSMarketBalanceAutomatedCommentary.txt', 'w') as f:\n",
    "    f.write(cap.stdout)"
   ]
  },
  {
   "cell_type": "code",
   "execution_count": 18,
   "id": "843f569b-53b9-432d-92bf-d1453ad6d117",
   "metadata": {},
   "outputs": [],
   "source": [
    "rd.close_session()"
   ]
  },
  {
   "cell_type": "code",
   "execution_count": null,
   "id": "11e86395-a66d-48db-aa6f-3ed8e141f23e",
   "metadata": {},
   "outputs": [],
   "source": []
  }
 ],
 "metadata": {
  "kernelspec": {
   "display_name": "Python 3 (ipykernel)",
   "language": "python",
   "name": "python3"
  },
  "language_info": {
   "codemirror_mode": {
    "name": "ipython",
    "version": 3
   },
   "file_extension": ".py",
   "mimetype": "text/x-python",
   "name": "python",
   "nbconvert_exporter": "python",
   "pygments_lexer": "ipython3",
   "version": "3.9.13"
  },
  "widgets": {
   "application/vnd.jupyter.widget-state+json": {
    "state": {},
    "version_major": 2,
    "version_minor": 0
   }
  }
 },
 "nbformat": 4,
 "nbformat_minor": 5
}
